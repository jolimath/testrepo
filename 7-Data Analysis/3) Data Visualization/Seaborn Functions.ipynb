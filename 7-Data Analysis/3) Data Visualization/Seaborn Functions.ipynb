{
 "cells": [
  {
   "cell_type": "markdown",
   "id": "575e47ad-96ab-43d9-8f31-42f2ae51904b",
   "metadata": {},
   "source": [
    "## Seaborn Functions\n",
    "\n",
    "Seaborn has a slightly more complicated syntax than <code>matplotlib</code>.\n",
    "\n",
    "### Residual Plots\n",
    "\n",
    "For *residual plots*, which show a points deviation from a regression line, we use the following syntax:"
   ]
  },
  {
   "cell_type": "code",
   "execution_count": 4,
   "id": "1c3fed1e-263f-4fbf-a8ac-8b823a419016",
   "metadata": {},
   "outputs": [
    {
     "ename": "NameError",
     "evalue": "name 'sns' is not defined",
     "output_type": "error",
     "traceback": [
      "\u001b[0;31m---------------------------------------------------------------------------\u001b[0m",
      "\u001b[0;31mNameError\u001b[0m                                 Traceback (most recent call last)",
      "Cell \u001b[0;32mIn[4], line 1\u001b[0m\n\u001b[0;32m----> 1\u001b[0m sns\u001b[38;5;241m.\u001b[39mresidplot(data\u001b[38;5;241m=\u001b[39mdf,x\u001b[38;5;241m=\u001b[39m\u001b[38;5;124m'\u001b[39m\u001b[38;5;124mheader_1\u001b[39m\u001b[38;5;124m'\u001b[39m, y\u001b[38;5;241m=\u001b[39m\u001b[38;5;124m'\u001b[39m\u001b[38;5;124mheader_2\u001b[39m\u001b[38;5;124m'\u001b[39m)\n\u001b[1;32m      3\u001b[0m \u001b[38;5;66;03m### OR ###\u001b[39;00m\n\u001b[1;32m      5\u001b[0m sns\u001b[38;5;241m.\u001b[39mresidplot(x\u001b[38;5;241m=\u001b[39mdf[\u001b[38;5;124m'\u001b[39m\u001b[38;5;124mheader_1\u001b[39m\u001b[38;5;124m'\u001b[39m], y\u001b[38;5;241m=\u001b[39mdf[\u001b[38;5;124m'\u001b[39m\u001b[38;5;124mheader_2\u001b[39m\u001b[38;5;124m'\u001b[39m])\n",
      "\u001b[0;31mNameError\u001b[0m: name 'sns' is not defined"
     ]
    }
   ],
   "source": [
    "sns.residplot(data=df,x='header_1', y='header_2')\n",
    "\n",
    "### OR ###\n",
    "\n",
    "sns.residplot(x=df['header_1'], y=df['header_2'])"
   ]
  },
  {
   "cell_type": "markdown",
   "id": "fcf3719e-5a75-4149-b632-3c8918d78431",
   "metadata": {},
   "source": [
    "Note: The 'strings' are identifying columns in the DataFrame.\n"
   ]
  },
  {
   "cell_type": "markdown",
   "id": "5e192580-04bc-4a70-abbf-cde057b92de7",
   "metadata": {},
   "source": [
    "### Kernel Density Estimate (KDE)\n",
    "\n",
    "Seems to me like a graph of a probability distribution function (pdf)."
   ]
  },
  {
   "cell_type": "code",
   "execution_count": null,
   "id": "bb55c607-01f0-49d8-9c5d-abcd2c271587",
   "metadata": {},
   "outputs": [],
   "source": [
    "sns.kdeplot(X)"
   ]
  },
  {
   "cell_type": "markdown",
   "id": "235814ec-da93-4592-b303-6339fc4a3dce",
   "metadata": {},
   "source": [
    "Note: similar to the plot of a die space."
   ]
  },
  {
   "cell_type": "markdown",
   "id": "c3fb75fc-328d-4360-9330-2cdc834c7929",
   "metadata": {},
   "source": [
    "### Distribution Plot\n",
    "\n",
    "Functionally the same as the KDE with the added functionality of receiving binned data and outputting a histogram."
   ]
  },
  {
   "cell_type": "code",
   "execution_count": null,
   "id": "f802ddac-ab8c-4614-8bee-2aa97b7c0fcf",
   "metadata": {},
   "outputs": [],
   "source": [
    "sns.distplot(X, hist=False)"
   ]
  }
 ],
 "metadata": {
  "kernelspec": {
   "display_name": "Python [conda env:base] *",
   "language": "python",
   "name": "conda-base-py"
  },
  "language_info": {
   "codemirror_mode": {
    "name": "ipython",
    "version": 3
   },
   "file_extension": ".py",
   "mimetype": "text/x-python",
   "name": "python",
   "nbconvert_exporter": "python",
   "pygments_lexer": "ipython3",
   "version": "3.12.7"
  }
 },
 "nbformat": 4,
 "nbformat_minor": 5
}
