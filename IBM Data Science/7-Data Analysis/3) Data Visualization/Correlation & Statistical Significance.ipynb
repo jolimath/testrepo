{
 "cells": [
  {
   "cell_type": "markdown",
   "id": "6a9524da-a65a-480d-bf4c-21112f16fea6",
   "metadata": {},
   "source": [
    "# Correlation & Statistical Significance"
   ]
  },
  {
   "cell_type": "markdown",
   "id": "0c7f0f38-ad11-4ee8-9557-568016c7f055",
   "metadata": {
    "jp-MarkdownHeadingCollapsed": true
   },
   "source": [
    "## Pearson Correlation\n",
    "\n",
    "Correlation coefficient (R): value in [-1,1]<br>\n",
    "\n",
    "*p*-value:\n",
    "<br>\n",
    "<code>p < 0.001</code> strong<br>\n",
    "<code>p < 0.05</code>  moderate<br>\n",
    "<code>p < 0.001</code> weak<br>\n",
    "<code>p < 0.001</code> no correlation"
   ]
  },
  {
   "cell_type": "markdown",
   "id": "b45d9ad6-aa3b-4db9-9326-e5561014608e",
   "metadata": {},
   "source": [
    "### *p*-value\n",
    "\n",
    "A quick note on *p*-value. I feel like I finally understand it.\n",
    "\n",
    "*p* is the probability that we would achieve the given results ASSUMING the null hypothesis is true. Thus, a lower *p*-value indicates that we are either **insanely lucky** to have seen what we've seen, or the <font color=#>null-hypothesis is false.** And we never assume we are insanely lucky.\n",
    "\n",
    "The \"branch of the multiverse\" phrasing is really helpful here. Either, something really unlikely occured on this branch of the multiverse -- OR -- we are on a different branch of the multiverse. Being on a different branch of the multiverse is always more plausible. It is always the preferred explanation for a low *p*-value.\n",
    "\n",
    "This metaphor is also helpful for my paradigm because I understand that the set of multiversal branches (universes) sums to 1. Thus, the relationships among the branches is *multiplicative/fracitonal/scalable*, which plays nicely into probablilty."
   ]
  },
  {
   "cell_type": "markdown",
   "id": "d67f8ac5-7e36-4e0a-b12d-9979f435f1ee",
   "metadata": {},
   "source": [
    "<font color=#ff4d4d>This text is red!</font>\n",
    "\n",
    "I also learned how to do this ... which is not about math, but could come in handy later."
   ]
  },
  {
   "cell_type": "markdown",
   "id": "20510e2f-ba01-47e2-a0a5-d1095735313d",
   "metadata": {},
   "source": [
    "## Chi-squared Test\n",
    "\n",
    "Let $\\chi^2$ be the sum of squared deviations from the mean (scaled relative to the mean).\n",
    "\n",
    "$$\\sum\\frac{(O_i-E_i)^2}{E_i}$$\n",
    "\n",
    "I am saying \"mean\" for short, but it is really the \"expected value.\" And $O_i$ is the $i^{\\text{th}}$ observed value.\n",
    "\n",
    "We can imagine that if there is a LOT of deviation from the mean, $\\chi^2$ gets really big. And if all our values are expected, that is there is NO deviation from the mean, then $\\chi^2 = 0$. Since the deviations are being squared, $\\chi^2$ is always non-negative, without upper bound."
   ]
  },
  {
   "cell_type": "markdown",
   "id": "9a73b1d5-8e09-47b5-b88f-c891ee8d0071",
   "metadata": {},
   "source": [
    "### Example\n",
    "\n",
    "Here is an example of a $\\chi^2$ test. In this context, we may want to see if men are more likely to react positively to a change than women, for example.\n",
    "\n",
    "If there is no correlation, that is our null hypothesis assumes there won't be a reaction of like or dislike more common in men as compared to women, then the variation among reactions will be small enough that it fits within the empirical $\\chi^2$ value."
   ]
  },
  {
   "cell_type": "code",
   "execution_count": 4,
   "id": "06a2d514-f4a6-4746-a10a-5fe8a7c13cff",
   "metadata": {},
   "outputs": [
    {
     "name": "stdout",
     "output_type": "stream",
     "text": [
      "Chi-square Statistic: 0.6464646464646464\n",
      "Degrees of Freedom: 1\n",
      "P-value: 0.4213795037428696\n",
      "Expected Frequencies:\n",
      " [[22.5 27.5]\n",
      " [22.5 27.5]]\n"
     ]
    },
    {
     "data": {
      "text/html": [
       "<div>\n",
       "<style scoped>\n",
       "    .dataframe tbody tr th:only-of-type {\n",
       "        vertical-align: middle;\n",
       "    }\n",
       "\n",
       "    .dataframe tbody tr th {\n",
       "        vertical-align: top;\n",
       "    }\n",
       "\n",
       "    .dataframe thead th {\n",
       "        text-align: right;\n",
       "    }\n",
       "</style>\n",
       "<table border=\"1\" class=\"dataframe\">\n",
       "  <thead>\n",
       "    <tr style=\"text-align: right;\">\n",
       "      <th></th>\n",
       "      <th>Like</th>\n",
       "      <th>Dislike</th>\n",
       "    </tr>\n",
       "  </thead>\n",
       "  <tbody>\n",
       "    <tr>\n",
       "      <th>Male</th>\n",
       "      <td>20</td>\n",
       "      <td>30</td>\n",
       "    </tr>\n",
       "    <tr>\n",
       "      <th>Female</th>\n",
       "      <td>25</td>\n",
       "      <td>25</td>\n",
       "    </tr>\n",
       "  </tbody>\n",
       "</table>\n",
       "</div>"
      ],
      "text/plain": [
       "        Like  Dislike\n",
       "Male      20       30\n",
       "Female    25       25"
      ]
     },
     "execution_count": 4,
     "metadata": {},
     "output_type": "execute_result"
    }
   ],
   "source": [
    "import pandas as pd\n",
    "from scipy.stats import chi2_contingency\n",
    "\n",
    "# Create the contingency table\n",
    "data = [[20, 30],  # Male: [Like, Dislike]\n",
    "        [25, 25]]  # Female: [Like, Dislike]\n",
    "\n",
    "# Create a DataFrame for clarity\n",
    "df = pd.DataFrame(data, columns=[\"Like\", \"Dislike\"], index=[\"Male\", \"Female\"])\n",
    "\n",
    "# Perform the Chi-Square Test\n",
    "chi2, p, dof, expected = chi2_contingency(df)\n",
    "\n",
    "# Display results\n",
    "print(\"Chi-square Statistic:\", chi2)\n",
    "print(\"Degrees of Freedom:\", dof)\n",
    "print(\"P-value:\", p)\n",
    "print(\"Expected Frequencies:\\n\", expected)\n",
    "\n",
    "df"
   ]
  },
  {
   "cell_type": "markdown",
   "id": "9b55d89f-3923-4fe9-9b33-311a2ddcd9a4",
   "metadata": {},
   "source": [
    "The great thing about a $\\chi^2$ test is that we can check all the variations of the relationships with the same data. We can see if men are more likely to react positively to the change than women, if women are more likely to react negatively to the change, if men are more likely to react negatively, etc.\n",
    "\n",
    "I think this is where degrees of freedom comes into play. Because a $\\chi^2$ test is open-ended enough to catch an instance of dependence, the degrees of freedom accounts for many of those effects taking place at once (???)."
   ]
  },
  {
   "cell_type": "code",
   "execution_count": null,
   "id": "a520ec33-d069-4aed-938f-410118382ad9",
   "metadata": {},
   "outputs": [],
   "source": []
  }
 ],
 "metadata": {
  "kernelspec": {
   "display_name": "Python [conda env:base] *",
   "language": "python",
   "name": "conda-base-py"
  },
  "language_info": {
   "codemirror_mode": {
    "name": "ipython",
    "version": 3
   },
   "file_extension": ".py",
   "mimetype": "text/x-python",
   "name": "python",
   "nbconvert_exporter": "python",
   "pygments_lexer": "ipython3",
   "version": "3.12.7"
  }
 },
 "nbformat": 4,
 "nbformat_minor": 5
}
