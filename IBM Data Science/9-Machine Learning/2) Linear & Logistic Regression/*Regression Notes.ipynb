{
 "cells": [
  {
   "cell_type": "markdown",
   "id": "a31e8813-debd-4791-b61b-e3f00726ffca",
   "metadata": {},
   "source": [
    "# Regression"
   ]
  },
  {
   "cell_type": "markdown",
   "id": "8bb542c9-64ac-4fd1-819e-8df9ca30b725",
   "metadata": {},
   "source": [
    "**Simple regression** is when you use one variable to predict another. Linear and polynomial regression are types of simple regression.\n",
    "**Multiple regression** can use multiple variables."
   ]
  },
  {
   "cell_type": "markdown",
   "id": "f88e7f9b-10ed-47c7-83d2-e4b7dff96902",
   "metadata": {},
   "source": [
    "There are several types of regression algorithms as well:\n",
    "\n",
    "- Linear/polynomial\n",
    "- Random forest\n",
    "- Extreme Gradient Boosting (XGBoost)\n",
    "- K-nearest neighbors (KNN)\n",
    "- Support vector machines (SVM)\n",
    "- Neural network"
   ]
  },
  {
   "cell_type": "markdown",
   "id": "4774daf4-c8ea-4642-955f-1f01c322d079",
   "metadata": {},
   "source": [
    "Recall: **residual error** is the vertical distance from the actual data to the regression line."
   ]
  },
  {
   "cell_type": "markdown",
   "id": "6feeaa3d-a37d-4fb2-b0bb-fbb7524d58a5",
   "metadata": {},
   "source": [
    "## Ordinary Least Squares (OLS) Regression"
   ]
  },
  {
   "cell_type": "markdown",
   "id": "ce10f1e4-ac47-4da5-a4da-dfb38d3c0220",
   "metadata": {},
   "source": [
    "$\\hat{y} = b + m \\,x$\n",
    "\n",
    "$\\hat{y}$: predicted output\n",
    "\n",
    "$m=r\\dfrac{\\sigma_x}{\\sigma_y}$ \\\n",
    "Note: $m$ also called *bias coefficient*, and $r$ is described below\n",
    "\n",
    "#### Pearson's Correlation Coefficient\n",
    "$r = \\dfrac{\\sum \\,(x_i-\\overline{x})(y_i-\\overline{y})}{\\sqrt{\\sum (x_i-\\overline{x})^2\\sum (y_i-\\overline{y})^2}}$\n",
    "\n",
    "\n",
    "**Mean squared-error (MSE):** average of squared residuals \\\n",
    "Note: The goal of OLS is to minimize the MSE"
   ]
  },
  {
   "cell_type": "markdown",
   "id": "ba38a7b1-0497-4712-ad2d-c04960c6d9e9",
   "metadata": {},
   "source": [
    "## Multiple Linear Regression"
   ]
  },
  {
   "cell_type": "markdown",
   "id": "18e9efcf-1ef7-4a7c-9e95-e6f9c1c5fbb3",
   "metadata": {},
   "source": [
    "**Multiple linear regression** is a regression model of two or more variables.\n",
    "\n",
    "$$\\hat{y} = \\theta_0 + \\theta_1 x_1 + \\theta_2 x_2, + \\dots + \\theta_n x_n$$\n",
    "\n",
    "**Features** are the columns of the data frame which will form axes of the regression line/plane/surface.\n",
    "\n",
    "We can think of multiple linear regression model as a matrix $\\mathbf{X}$, where each column of this matrix is a vector of features. This matrix will transform a vector $\\mathbf{\\theta}$ whose components act as weights for each feature."
   ]
  },
  {
   "cell_type": "markdown",
   "id": "ad7fe050-5d20-4e04-8cb4-8bad7c21edf5",
   "metadata": {},
   "source": [
    "**<span style=\"color:red\"> WARNING:** When one of your features correlates with the others, the model may incorrectly imply the features can be isolated and adjusted independently, simulated unrealistic scenarios. You should be mindful to remove redundant variables from the regression to avoid this. The pandas function <code>df.corr()</code> can give a pivot table of correlations to help with this."
   ]
  },
  {
   "cell_type": "markdown",
   "id": "1dcfa460-76c6-4dc6-b66f-d2043b2666fb",
   "metadata": {},
   "source": [
    "Note: minimizing mean squared errors is the same as minimizing squared errors. This is called Least-Squares linear regression."
   ]
  },
  {
   "cell_type": "code",
   "execution_count": null,
   "id": "88f4b2a1-f195-48b7-87c8-6e4f7dcb3731",
   "metadata": {},
   "outputs": [],
   "source": []
  }
 ],
 "metadata": {
  "kernelspec": {
   "display_name": "Python [conda env:base] *",
   "language": "python",
   "name": "conda-base-py"
  },
  "language_info": {
   "codemirror_mode": {
    "name": "ipython",
    "version": 3
   },
   "file_extension": ".py",
   "mimetype": "text/x-python",
   "name": "python",
   "nbconvert_exporter": "python",
   "pygments_lexer": "ipython3",
   "version": "3.12.7"
  }
 },
 "nbformat": 4,
 "nbformat_minor": 5
}
